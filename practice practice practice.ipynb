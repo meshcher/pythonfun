{
 "cells": [
  {
   "cell_type": "code",
   "execution_count": 5,
   "metadata": {
    "collapsed": true
   },
   "outputs": [],
   "source": [
    "from __future__ import print_function"
   ]
  },
  {
   "cell_type": "code",
   "execution_count": null,
   "metadata": {
    "collapsed": true
   },
   "outputs": [],
   "source": [
    "# Exercise 1\n",
    "#asks the user to enter their name and their age.\n",
    "#Print out a message addressed to them that tells them the year that they will turn 100 years old\n",
    "def hund():\n",
    "    #from __future__ import print_function\n",
    "    name = input(\"Give me your name: \")\n",
    "    print(\"Your name is \" + name)\n",
    "    age = int(input(\"Enter your age: \"))\n",
    "    born=2017-age\n",
    "    hun=born+100\n",
    "    print(name, ', you will turn 100 years in',hun)\n",
    "    num=int(input('give me a number '))\n",
    "    yo='give me a number' \n",
    "    for i in yo:\n",
    "        print(yo)\n",
    "   \n"
   ]
  },
  {
   "cell_type": "code",
   "execution_count": 38,
   "metadata": {},
   "outputs": [
    {
     "name": "stdout",
     "output_type": "stream",
     "text": [
      "Give me your name: 'j'\n",
      "Your name is j\n",
      "Enter your age: 7\n",
      "j , you will turn 100 years in 2110\n",
      "give me a number 7\n",
      "give me a number\n",
      "give me a number\n",
      "give me a number\n",
      "give me a number\n",
      "give me a number\n",
      "give me a number\n",
      "give me a number\n",
      "give me a number\n",
      "give me a number\n",
      "give me a number\n",
      "give me a number\n",
      "give me a number\n",
      "give me a number\n",
      "give me a number\n",
      "give me a number\n",
      "give me a number\n"
     ]
    }
   ],
   "source": [
    "hund()"
   ]
  },
  {
   "cell_type": "code",
   "execution_count": 48,
   "metadata": {
    "collapsed": true
   },
   "outputs": [],
   "source": [
    "#Exercise 2\n",
    "#Ask the user for a number. Depending on whether the number is even or odd, print out an appropriate message to the user.\n",
    "#If the number is a multiple of 4, print out a different message.\n",
    "def odd():\n",
    "    n=int(input('gimme a number: '))\n",
    "    if n%4==0:\n",
    "        print('This number is dubble even: dividable by 2 and 4!')\n",
    "    elif n%2==0:\n",
    "        print('This number is even')\n",
    "    else: print(\"That's an odd number\")\n",
    "    #Ask the user for two numbers: one number to check (call it num) and one number to divide by (check).\n",
    "    #If check divides evenly into num, tell that to the user. If not, print a different appropriate message.      \n",
    "    num=int(input('gimme one number '))\n",
    "    check=int(input('gimme another one '))\n",
    "    if num%check==0:\n",
    "        print('Nice! you can divide number one by number two')\n",
    "    else: print('You cannot divide one number by another')"
   ]
  },
  {
   "cell_type": "code",
   "execution_count": 45,
   "metadata": {},
   "outputs": [
    {
     "name": "stdout",
     "output_type": "stream",
     "text": [
      "gimme a number: 4\n",
      "This number is dubble even: dividable by 2 and 4!\n",
      "gimme one number 0\n",
      "gimme another one 8\n",
      "Nice! you can divide number one by number two\n"
     ]
    }
   ],
   "source": [
    "odd()"
   ]
  },
  {
   "cell_type": "code",
   "execution_count": 54,
   "metadata": {
    "collapsed": true
   },
   "outputs": [],
   "source": [
    "#Exercise 3\n",
    "#prints out all the elements of the list that are less than 5.\n",
    "def les(x):\n",
    "    for i in x:\n",
    "        if i<5:\n",
    "            print(i)\n",
    "    #make a new list that has all the elements less than 5 from this list in it and print out this new list.\n",
    "    print([i for i in x if i<5])\n",
    "    #Ask the user for a number and return a list that contains only elements from the original list a\n",
    "    #that are smaller than that number given by the user.\n",
    "    d=int(input('gimme a number '))\n",
    "    print([i for i in x if i<d])"
   ]
  },
  {
   "cell_type": "code",
   "execution_count": 55,
   "metadata": {},
   "outputs": [
    {
     "name": "stdout",
     "output_type": "stream",
     "text": [
      "1\n",
      "2\n",
      "4\n",
      "1\n",
      "4\n",
      "3\n",
      "2\n",
      "1\n",
      "[1, 2, 4, 1, 4, 3, 2, 1]\n",
      "gimme a number 8\n",
      "[1, 2, 4, 6, 7, 1, 4, 3, 2, 1]\n"
     ]
    }
   ],
   "source": [
    "les([1,2,4,6,7,1,8,4,3,2,1])"
   ]
  },
  {
   "cell_type": "code",
   "execution_count": 57,
   "metadata": {
    "collapsed": true
   },
   "outputs": [],
   "source": [
    "#Exercise 4\n",
    "#Create a program that asks the user for a number and then prints out a list of all the divisors of that number.\n",
    "def div():\n",
    "    n=int(input('gimme a number '))\n",
    "    for i in xrange(1,n):\n",
    "        if n%i==0:\n",
    "            print(i,' is a divisor of ',n)"
   ]
  },
  {
   "cell_type": "code",
   "execution_count": 58,
   "metadata": {},
   "outputs": [
    {
     "name": "stdout",
     "output_type": "stream",
     "text": [
      "gimme a number 6\n",
      "1  is a divisor of  6\n",
      "2  is a divisor of  6\n",
      "3  is a divisor of  6\n"
     ]
    }
   ],
   "source": [
    "div()"
   ]
  },
  {
   "cell_type": "code",
   "execution_count": 1,
   "metadata": {
    "collapsed": true
   },
   "outputs": [],
   "source": [
    "#Exercise 5\n",
    "#Take two lists and write a program that returns a list that contains only the elements\n",
    "#that are common between the lists (without duplicates). Make sure your program works on two lists of different sizes.\n",
    "def overl(a,b):\n",
    "    ol=[]\n",
    "    aa=set(a)\n",
    "    bb=set(b)\n",
    "    for i in aa:\n",
    "        if i in bb:\n",
    "            ol.append(i)\n",
    "    return ol\n",
    "   "
   ]
  },
  {
   "cell_type": "code",
   "execution_count": 75,
   "metadata": {},
   "outputs": [
    {
     "data": {
      "text/plain": [
       "[33, 35, 41, 18, 67, 60, 62]"
      ]
     },
     "execution_count": 75,
     "metadata": {},
     "output_type": "execute_result"
    }
   ],
   "source": [
    "#Randomly generate two lists to test this\n",
    "#import random\n",
    "overl([random.randint(0,100) for r in xrange(20)],[random.randint(0,100) for r in xrange(20)])"
   ]
  },
  {
   "cell_type": "code",
   "execution_count": 1,
   "metadata": {
    "collapsed": true
   },
   "outputs": [],
   "source": [
    "#6\n",
    "#Ask the user for a string and print out whether this string is a palindrome or not.\n",
    "def pal():\n",
    "    l=input('enter a sentence here ')\n",
    "    if l==l[::-1]:\n",
    "        print('palinom yo')\n",
    "    else: print('not a palinom')"
   ]
  },
  {
   "cell_type": "code",
   "execution_count": 2,
   "metadata": {},
   "outputs": [
    {
     "name": "stdout",
     "output_type": "stream",
     "text": [
      "enter a sentence here 'aaaakkp'\n",
      "not a palinom\n"
     ]
    }
   ],
   "source": [
    "pal()"
   ]
  },
  {
   "cell_type": "code",
   "execution_count": 4,
   "metadata": {
    "collapsed": true
   },
   "outputs": [],
   "source": [
    "#7\n",
    "#Write one line of Python that takes this list a and makes a new list that has only the even elements of this list in it.\n",
    "def com(e):\n",
    "    print[i for i in e if i%2==0 ]"
   ]
  },
  {
   "cell_type": "code",
   "execution_count": 5,
   "metadata": {},
   "outputs": [
    {
     "name": "stdout",
     "output_type": "stream",
     "text": [
      "[2, 4, 6]\n"
     ]
    }
   ],
   "source": [
    "com([1,2,3,4,5,6])"
   ]
  },
  {
   "cell_type": "code",
   "execution_count": 26,
   "metadata": {
    "collapsed": true
   },
   "outputs": [],
   "source": [
    "#8\n",
    "#Make a two-player Rock-Paper-Scissors game.\n",
    "#(Hint: Ask for player plays (using input), compare them, print out a message of congratulations to the winner,\n",
    "#and ask if the players want to start a new game)\n",
    "def rrs():\n",
    "   # while True: ----cannot be bothered with the formatting\n",
    "    p1=input('Player 1, enter your choice')\n",
    "    p2=input('Player 2, enter your choice')\n",
    "    if p1.lower()=='rock':\n",
    "        if p2.lower()=='rock':\n",
    "            print('tie')\n",
    "        if p2.lower()=='paper':\n",
    "            print('player 2 wins')\n",
    "        if p2.lower()=='scissors':\n",
    "            print('player 1 wins')\n",
    "    if p1.lower()=='paper':\n",
    "        if p2.lower()=='paper':\n",
    "            print('tie')\n",
    "        if p2.lower()=='scissors':\n",
    "            print('player 2 wins')\n",
    "        if p2.lower()=='rock':\n",
    "            print('player 1 wins')\n",
    "    if p1.lower()=='scissors':\n",
    "        if p2.lower()=='scissors':\n",
    "            print('tie')\n",
    "        if p2.lower()=='rock':\n",
    "            print('player 2 wins')\n",
    "        if p2.lower()=='paper':\n",
    "            print('player 1 wins')\n",
    "    co=input('would you like to continue? ')\n",
    "  #  if co.lower()!='yes':\n",
    "   #     break"
   ]
  },
  {
   "cell_type": "code",
   "execution_count": 27,
   "metadata": {},
   "outputs": [
    {
     "name": "stdout",
     "output_type": "stream",
     "text": [
      "Player 1, enter your choice'Rock'\n",
      "Player 2, enter your choice'Scissors'\n",
      "player 1 wins\n"
     ]
    }
   ],
   "source": [
    "rrs()"
   ]
  },
  {
   "cell_type": "code",
   "execution_count": 16,
   "metadata": {},
   "outputs": [
    {
     "name": "stdout",
     "output_type": "stream",
     "text": [
      "rock\n"
     ]
    }
   ],
   "source": [
    "aa='Rock'\n",
    "print(aa.lower())"
   ]
  },
  {
   "cell_type": "code",
   "execution_count": null,
   "metadata": {
    "collapsed": true
   },
   "outputs": [],
   "source": [
    "if aa.lower()=='rock':\n",
    "    print('aa')\n"
   ]
  },
  {
   "cell_type": "code",
   "execution_count": 1,
   "metadata": {
    "collapsed": true
   },
   "outputs": [],
   "source": [
    "#9\n",
    "#Generate a random number between 1 and 9 (including 1 and 9).\n",
    "#Ask the user to guess the number, then tell them whether they guessed too low, too high, or exactly right.\n",
    "import random\n",
    "\n",
    "def rand():\n",
    "    count=0\n",
    "    n=random.randint(1,9)\n",
    "    #even better condition:\n",
    "    #while guess != number and guess != \"exit\"\n",
    "    while True:\n",
    "        a=int(input('guess the number'))\n",
    "        if a==n:\n",
    "            print(\"that's correct\")\n",
    "            print(\"number of guesses \",count)\n",
    "            i=input(\"to exit please enter exit\")\n",
    "            if i=='exit':\n",
    "                break\n",
    "        elif a>n:\n",
    "            print(\"your guess is too big\")\n",
    "            count+=1\n",
    "        else:\n",
    "            print(\"your guess is too low\")\n",
    "            count+=1\n",
    "    "
   ]
  },
  {
   "cell_type": "code",
   "execution_count": 3,
   "metadata": {},
   "outputs": [
    {
     "name": "stdout",
     "output_type": "stream",
     "text": [
      "guess the number1\n",
      "your guess is too low\n",
      "guess the number2\n",
      "your guess is too low\n",
      "guess the number3\n",
      "your guess is too low\n",
      "guess the number4\n",
      "that's correct\n",
      "('number of guesses ', 3)\n",
      "to exit please enter exitexit\n"
     ]
    },
    {
     "ename": "NameError",
     "evalue": "name 'exit' is not defined",
     "output_type": "error",
     "traceback": [
      "\u001b[1;31m---------------------------------------------------------------------------\u001b[0m",
      "\u001b[1;31mNameError\u001b[0m                                 Traceback (most recent call last)",
      "\u001b[1;32m<ipython-input-3-44fca66c05a9>\u001b[0m in \u001b[0;36m<module>\u001b[1;34m()\u001b[0m\n\u001b[1;32m----> 1\u001b[1;33m \u001b[0mrand\u001b[0m\u001b[1;33m(\u001b[0m\u001b[1;33m)\u001b[0m\u001b[1;33m\u001b[0m\u001b[0m\n\u001b[0m",
      "\u001b[1;32m<ipython-input-1-77ab3d02005b>\u001b[0m in \u001b[0;36mrand\u001b[1;34m()\u001b[0m\n\u001b[0;32m      9\u001b[0m             \u001b[1;32mprint\u001b[0m\u001b[1;33m(\u001b[0m\u001b[1;34m\"that's correct\"\u001b[0m\u001b[1;33m)\u001b[0m\u001b[1;33m\u001b[0m\u001b[0m\n\u001b[0;32m     10\u001b[0m             \u001b[1;32mprint\u001b[0m\u001b[1;33m(\u001b[0m\u001b[1;34m\"number of guesses \"\u001b[0m\u001b[1;33m,\u001b[0m\u001b[0mcount\u001b[0m\u001b[1;33m)\u001b[0m\u001b[1;33m\u001b[0m\u001b[0m\n\u001b[1;32m---> 11\u001b[1;33m             \u001b[0mi\u001b[0m\u001b[1;33m=\u001b[0m\u001b[0minput\u001b[0m\u001b[1;33m(\u001b[0m\u001b[1;34m\"to exit please enter exit\"\u001b[0m\u001b[1;33m)\u001b[0m\u001b[1;33m\u001b[0m\u001b[0m\n\u001b[0m\u001b[0;32m     12\u001b[0m             \u001b[1;32mif\u001b[0m \u001b[0mi\u001b[0m\u001b[1;33m==\u001b[0m\u001b[1;34m'exit'\u001b[0m\u001b[1;33m:\u001b[0m\u001b[1;33m\u001b[0m\u001b[0m\n\u001b[0;32m     13\u001b[0m                 \u001b[1;32mbreak\u001b[0m\u001b[1;33m\u001b[0m\u001b[0m\n",
      "\u001b[1;32mC:\\Users\\User\\Anaconda2\\lib\\site-packages\\ipykernel\\ipkernel.pyc\u001b[0m in \u001b[0;36m<lambda>\u001b[1;34m(prompt)\u001b[0m\n\u001b[0;32m    162\u001b[0m             \u001b[0mself\u001b[0m\u001b[1;33m.\u001b[0m\u001b[0m_sys_eval_input\u001b[0m \u001b[1;33m=\u001b[0m \u001b[0mbuiltin_mod\u001b[0m\u001b[1;33m.\u001b[0m\u001b[0minput\u001b[0m\u001b[1;33m\u001b[0m\u001b[0m\n\u001b[0;32m    163\u001b[0m             \u001b[0mbuiltin_mod\u001b[0m\u001b[1;33m.\u001b[0m\u001b[0mraw_input\u001b[0m \u001b[1;33m=\u001b[0m \u001b[0mself\u001b[0m\u001b[1;33m.\u001b[0m\u001b[0mraw_input\u001b[0m\u001b[1;33m\u001b[0m\u001b[0m\n\u001b[1;32m--> 164\u001b[1;33m             \u001b[0mbuiltin_mod\u001b[0m\u001b[1;33m.\u001b[0m\u001b[0minput\u001b[0m \u001b[1;33m=\u001b[0m \u001b[1;32mlambda\u001b[0m \u001b[0mprompt\u001b[0m\u001b[1;33m=\u001b[0m\u001b[1;34m''\u001b[0m\u001b[1;33m:\u001b[0m \u001b[0meval\u001b[0m\u001b[1;33m(\u001b[0m\u001b[0mself\u001b[0m\u001b[1;33m.\u001b[0m\u001b[0mraw_input\u001b[0m\u001b[1;33m(\u001b[0m\u001b[0mprompt\u001b[0m\u001b[1;33m)\u001b[0m\u001b[1;33m)\u001b[0m\u001b[1;33m\u001b[0m\u001b[0m\n\u001b[0m\u001b[0;32m    165\u001b[0m         \u001b[0mself\u001b[0m\u001b[1;33m.\u001b[0m\u001b[0m_save_getpass\u001b[0m \u001b[1;33m=\u001b[0m \u001b[0mgetpass\u001b[0m\u001b[1;33m.\u001b[0m\u001b[0mgetpass\u001b[0m\u001b[1;33m\u001b[0m\u001b[0m\n\u001b[0;32m    166\u001b[0m         \u001b[0mgetpass\u001b[0m\u001b[1;33m.\u001b[0m\u001b[0mgetpass\u001b[0m \u001b[1;33m=\u001b[0m \u001b[0mself\u001b[0m\u001b[1;33m.\u001b[0m\u001b[0mgetpass\u001b[0m\u001b[1;33m\u001b[0m\u001b[0m\n",
      "\u001b[1;32mC:\\Users\\User\\Anaconda2\\lib\\site-packages\\ipykernel\\ipkernel.pyc\u001b[0m in \u001b[0;36m<module>\u001b[1;34m()\u001b[0m\n",
      "\u001b[1;31mNameError\u001b[0m: name 'exit' is not defined"
     ]
    }
   ],
   "source": [
    "rand()"
   ]
  },
  {
   "cell_type": "code",
   "execution_count": 7,
   "metadata": {
    "collapsed": true
   },
   "outputs": [],
   "source": [
    "#10\n",
    "#Take two lists and write a program that returns a list that contains only the elements that are common between the lists \n",
    "# using at least one list comprehension\n",
    "def lis(a,b):\n",
    "    c=[i for i in a if i in b]\n",
    "    return(c)"
   ]
  },
  {
   "cell_type": "code",
   "execution_count": 9,
   "metadata": {},
   "outputs": [
    {
     "data": {
      "text/plain": [
       "[3, 6, 25, 20, 24, 16]"
      ]
     },
     "execution_count": 9,
     "metadata": {},
     "output_type": "execute_result"
    }
   ],
   "source": [
    "ar = random.sample(range(1,30), 12)\n",
    "br = random.sample(range(1,30), 16)\n",
    "#lis([1,2,3,4,5],[2,3,1])\n",
    "lis(ar,br)"
   ]
  },
  {
   "cell_type": "code",
   "execution_count": 20,
   "metadata": {
    "collapsed": true
   },
   "outputs": [],
   "source": [
    "#11\n",
    "#Ask the user for a number and determine whether the number is prime or not.\n",
    "#a = [x for x in range(2, num) if num % x == 0] and then if a is not empty the number is not prime\n",
    "def prim():\n",
    "    yo=0\n",
    "    n=int(input('gimme a number '))\n",
    "    for i in xrange(2,n):\n",
    "        if n%i==0:\n",
    "            yo=0\n",
    "        else: yo+=1\n",
    "    if yo<n-2:\n",
    "        print(\"the number is not prime\")\n",
    "        return(yo)\n",
    "    else: print(\"the number is prime\")\n",
    "            "
   ]
  },
  {
   "cell_type": "code",
   "execution_count": 24,
   "metadata": {},
   "outputs": [
    {
     "name": "stdout",
     "output_type": "stream",
     "text": [
      "gimme a number 54\n",
      "the number is not prime\n"
     ]
    },
    {
     "data": {
      "text/plain": [
       "26"
      ]
     },
     "execution_count": 24,
     "metadata": {},
     "output_type": "execute_result"
    }
   ],
   "source": [
    "prim()"
   ]
  },
  {
   "cell_type": "code",
   "execution_count": 31,
   "metadata": {
    "collapsed": true
   },
   "outputs": [],
   "source": [
    "#12\n",
    "#Write a program that takes a list of numbers (for example, a = [5, 10, 15, 20, 25])\n",
    "#and makes a new list of only the first and last elements of the given list.\n",
    "def fst(a):\n",
    "    l=len(a)\n",
    "    #return(a[l])\n",
    "    e=[i for i in a if i==a[0] or i==a[l-1]]\n",
    "    return(e)"
   ]
  },
  {
   "cell_type": "code",
   "execution_count": 32,
   "metadata": {},
   "outputs": [
    {
     "data": {
      "text/plain": [
       "[1, 7]"
      ]
     },
     "execution_count": 32,
     "metadata": {},
     "output_type": "execute_result"
    }
   ],
   "source": [
    "fst([1,2,3,45,6,7])"
   ]
  },
  {
   "cell_type": "code",
   "execution_count": 18,
   "metadata": {
    "collapsed": true
   },
   "outputs": [],
   "source": [
    "#13\n",
    "# Write a program that asks the user how many Fibonnaci numbers to generate and then generates them.\n",
    "def fib():\n",
    "    g=int(input(\"length of Fibonnaci sequence \"))\n",
    "    if g==0:\n",
    "        a=[]\n",
    "    elif g==1:\n",
    "        a=[1]\n",
    "    elif g==2:\n",
    "        a=[1,1]\n",
    "    else:\n",
    "        a=[1,1]\n",
    "        for i in xrange(2,g):\n",
    "            rr=a[i-2]+a[i-1]\n",
    "            a.append(rr)\n",
    "    return(a)\n",
    "            \n",
    "        "
   ]
  },
  {
   "cell_type": "code",
   "execution_count": 20,
   "metadata": {},
   "outputs": [
    {
     "name": "stdout",
     "output_type": "stream",
     "text": [
      "length of Fibonnaci sequence 7\n"
     ]
    },
    {
     "data": {
      "text/plain": [
       "[1, 1, 2, 3, 5, 8, 13]"
      ]
     },
     "execution_count": 20,
     "metadata": {},
     "output_type": "execute_result"
    }
   ],
   "source": [
    "fib()"
   ]
  },
  {
   "cell_type": "code",
   "execution_count": 23,
   "metadata": {
    "collapsed": true
   },
   "outputs": [],
   "source": [
    "#14\n",
    "#Write a program (function!) that takes a list and returns a new list that contains all the elements of the first list\n",
    "#minus all the duplicates\n",
    "def dup(s):\n",
    "    a=set(s)\n",
    "    return(a)\n",
    "\n",
    "#with loop\n",
    "#for i in s:\n",
    "# if i not in ss:\n",
    "## ss.append(i)"
   ]
  },
  {
   "cell_type": "code",
   "execution_count": 24,
   "metadata": {},
   "outputs": [
    {
     "data": {
      "text/plain": [
       "{1, 2, 3, 4, 5, 6, 7, 8, 9}"
      ]
     },
     "execution_count": 24,
     "metadata": {},
     "output_type": "execute_result"
    }
   ],
   "source": [
    "dup([1,1,1,1,1,2,2,2,2,2,2,2,3,4,5,6,7,8,9])"
   ]
  },
  {
   "cell_type": "code",
   "execution_count": 30,
   "metadata": {
    "collapsed": true
   },
   "outputs": [],
   "source": [
    "#15\n",
    "#Write a program (using functions!) that asks the user for a long string containing multiple words.\n",
    "#Print back to the user the same string, except with the words in backwards order.\n",
    "def rev():\n",
    "    a=input('write your dumb sentence here ')\n",
    "    q=a.split()\n",
    "    q=q[::-1]\n",
    "    k=\" \".join(q)\n",
    "    return(k)\n",
    "#return ' '.join(w.split()[::-1])"
   ]
  },
  {
   "cell_type": "code",
   "execution_count": 31,
   "metadata": {},
   "outputs": [
    {
     "name": "stdout",
     "output_type": "stream",
     "text": [
      "write your dumb sentence here 'and see everything in ruins'\n"
     ]
    },
    {
     "data": {
      "text/plain": [
       "'ruins in everything see and'"
      ]
     },
     "execution_count": 31,
     "metadata": {},
     "output_type": "execute_result"
    }
   ],
   "source": [
    "rev()"
   ]
  },
  {
   "cell_type": "code",
   "execution_count": null,
   "metadata": {
    "collapsed": true
   },
   "outputs": [],
   "source": [
    "#16\n",
    "#Write a password generator in Python. Be creative with how you generate passwords -\n",
    "#strong passwords have a mix of lowercase letters, uppercase letters, numbers, and symbols.\n",
    "#The passwords should be random, generating a new password every time the user asks for a new password.\n",
    "#Include your run-time code in a main method.\n",
    "def pas():\n",
    "    import string\n",
    "    string.ascii_letters\n",
    "    let=set(string.ascii_letters)\n",
    "    num={1,2,3,4,5,6,7,8,9,0}\n",
    "    le=int(input('length of password: '))\n",
    "    \n"
   ]
  },
  {
   "cell_type": "code",
   "execution_count": 5,
   "metadata": {
    "collapsed": true
   },
   "outputs": [],
   "source": []
  },
  {
   "cell_type": "code",
   "execution_count": null,
   "metadata": {},
   "outputs": [],
   "source": []
  },
  {
   "cell_type": "code",
   "execution_count": null,
   "metadata": {
    "collapsed": true
   },
   "outputs": [],
   "source": []
  },
  {
   "cell_type": "code",
   "execution_count": null,
   "metadata": {
    "collapsed": true
   },
   "outputs": [],
   "source": []
  },
  {
   "cell_type": "code",
   "execution_count": null,
   "metadata": {},
   "outputs": [],
   "source": []
  },
  {
   "cell_type": "code",
   "execution_count": null,
   "metadata": {
    "collapsed": true
   },
   "outputs": [],
   "source": []
  }
 ],
 "metadata": {
  "kernelspec": {
   "display_name": "Python 2",
   "language": "python",
   "name": "python2"
  },
  "language_info": {
   "codemirror_mode": {
    "name": "ipython",
    "version": 2
   },
   "file_extension": ".py",
   "mimetype": "text/x-python",
   "name": "python",
   "nbconvert_exporter": "python",
   "pygments_lexer": "ipython2",
   "version": "2.7.13"
  }
 },
 "nbformat": 4,
 "nbformat_minor": 2
}
